{
 "cells": [
  {
   "cell_type": "markdown",
   "metadata": {},
   "source": [
    "### TASK 1 ###\n",
    "##### 1.Install Jupyter notebook and run the first program and share the screenshot of the output.####  \n",
    "\n",
    "\n",
    "\n",
    "![title](t11.png) /n",
    "<img src="t11.png"  />
    " "
   ]
  },
  {
   "cell_type": "markdown",
   "metadata": {},
   "source": [
    "#### 2. Write a program which will find all such numbers which are divisible by 7 but are not a multiple of 5, between 2000 and 3200 (both included). The numbers obtained should be printed in a comma-separated sequence on a single line.  ####"
   ]
  },
  {
   "cell_type": "code",
   "execution_count": 42,
   "metadata": {},
   "outputs": [
    {
     "name": "stdout",
     "output_type": "stream",
     "text": [
      "[2000, 2100, 2200, 2300, 2400, 2500, 2600, 2700, 2800, 2900, 3000, 3100, 3200]\n",
      "\n",
      "2002,2009,2016,2023,2037,2044,2051,2058,2072,2079,2086,2093,2107,2114,2121,2128,2142,2149,2156,2163,2177,2184,2191,2198,2212,2219,2226,2233,2247,2254,2261,2268,2282,2289,2296,2303,2317,2324,2331,2338,2352,2359,2366,2373,2387,2394,2401,2408,2422,2429,2436,2443,2457,2464,2471,2478,2492,2499,2506,2513,2527,2534,2541,2548,2562,2569,2576,2583,2597,2604,2611,2618,2632,2639,2646,2653,2667,2674,2681,2688,2702,2709,2716,2723,2737,2744,2751,2758,2772,2779,2786,2793,2807,2814,2821,2828,2842,2849,2856,2863,2877,2884,2891,2898,2912,2919,2926,2933,2947,2954,2961,2968,2982,2989,2996,3003,3017,3024,3031,3038,3052,3059,3066,3073,3087,3094,3101,3108,3122,3129,3136,3143,3157,3164,3171,3178,3192,3199\n"
     ]
    }
   ],
   "source": [
    "#Creating the range of numbers #\n",
    "\n",
    "n =list(range(2000,3201))\n",
    "\n",
    "# Checking the num range#\n",
    "c= n[::100]\n",
    "print(c)\n",
    "print(   )\n",
    "\n",
    "# Divisible by 7 but not a multiple of 5 #\n",
    "b = []\n",
    "for i in n :\n",
    "    if (i%7 ==0) and (i%5 !=0):\n",
    "        \n",
    "        b.append(str(i))\n",
    "        \n",
    "print (\",\".join(b))\n"
   ]
  },
  {
   "cell_type": "markdown",
   "metadata": {},
   "source": [
    "#### 3.Write a Python program to accept the user's first and last name and then getting them printed in the the reverse order with a space between first name and last name. ####"
   ]
  },
  {
   "cell_type": "code",
   "execution_count": 46,
   "metadata": {},
   "outputs": [
    {
     "name": "stdout",
     "output_type": "stream",
     "text": [
      "Please Eneter Your First Name : Shiva Pavan kumar\n",
      "Please Enter Your Last Name : Vanapally\n",
      "Vanapally Shiva Pavan kumar\n"
     ]
    }
   ],
   "source": [
    "a = input(\"Please Eneter Your First Name : \")\n",
    "\n",
    "b = input (\"Please Enter Your Last Name : \")\n",
    "\n",
    "\n",
    "# trying to print the User input in reverse Format #\n",
    "\n",
    "print (b,a)"
   ]
  },
  {
   "cell_type": "markdown",
   "metadata": {},
   "source": [
    "#### 4. Write a Python program to find the volume of a sphere with diameter 12 cm.   Formula: V=4/3 * π * r 3  ####"
   ]
  },
  {
   "cell_type": "code",
   "execution_count": 54,
   "metadata": {},
   "outputs": [
    {
     "name": "stdout",
     "output_type": "stream",
     "text": [
      "Please enter the Radius : 6\n",
      "volume of the Sphere is 904.3199999999999 when radius is 6\n"
     ]
    }
   ],
   "source": [
    "r = int(input (\"Please enter the Radius : \"))\n",
    "\n",
    "\n",
    "# Diameter of a sphere: d = 2 * r,as diameter is 12 cm mentioned , I will be taking radius as 6#\n",
    "\n",
    "pi = 3.14\n",
    "\n",
    "v = (4/3) * pi* (r**3)\n",
    "\n",
    "print(\"volume of the Sphere is {} when radius is {}\".format(v,r))\n"
   ]
  },
  {
   "cell_type": "markdown",
   "metadata": {},
   "source": [
    "### TASK 2 ###\n",
    "\n",
    "####  1.Write a program which accepts a sequence of comma-separated numbers from console and generate a list. ####\n"
   ]
  },
  {
   "cell_type": "code",
   "execution_count": 58,
   "metadata": {},
   "outputs": [
    {
     "name": "stdout",
     "output_type": "stream",
     "text": [
      "Please Enter a Sequence of numbers : 1,2,3,4,5,6,7,8,9,10\n"
     ]
    },
    {
     "data": {
      "text/plain": [
       "['1', '2', '3', '4', '5', '6', '7', '8', '9', '10']"
      ]
     },
     "execution_count": 58,
     "metadata": {},
     "output_type": "execute_result"
    }
   ],
   "source": [
    "a = input(\"Please Enter a Sequence of numbers : \")\n",
    "\n",
    "b = a.split(\",\")\n",
    "\n",
    "b"
   ]
  },
  {
   "cell_type": "markdown",
   "metadata": {},
   "source": [
    "#### 2.Create the below pattern using nested for loop in Python. #### \n",
    " \n",
    "\n",
    "#### * ####  \n",
    "#### * * ####  \n",
    "#### * * *  ####  \n",
    "#### * * * * ####  \n",
    "#### * * * * *  ####\n",
    "#### * * * *  ####\n",
    "#### * * * ####  \n",
    "#### * * ####  \n",
    "#### * ####"
   ]
  },
  {
   "cell_type": "code",
   "execution_count": 88,
   "metadata": {},
   "outputs": [
    {
     "name": "stdout",
     "output_type": "stream",
     "text": [
      "*\r\n",
      "**\r\n",
      "***\r\n",
      "****\r\n",
      "*****\r\n",
      "****\r\n",
      "***\r\n",
      "**\r\n",
      "*\r\n",
      "\r\n"
     ]
    }
   ],
   "source": [
    "# How to print Pattern #\n",
    "x = range(0,5)\n",
    "\n",
    "for i in x :\n",
    "    \n",
    "    for j in range(0,i+1):\n",
    "        \n",
    "        print(\"*\",end=\"\")\n",
    "    print(\"\\r\")\n",
    "    \n",
    "for i in range (5,0,-1):\n",
    "    \n",
    "    for j in range (0,i-1):\n",
    "        \n",
    "        print(\"*\",end=\"\")\n",
    "    print(\"\\r\")\n",
    "    \n",
    "    "
   ]
  },
  {
   "cell_type": "markdown",
   "metadata": {},
   "source": [
    "#### 3. Write a Python program to reverse a word after accepting the input from the user. ####\n",
    " \n",
    "#### Sample Output: #### \n",
    " \n",
    "#### Input word: AcadGild #### \n",
    " \n",
    "#### Output: dilGdacA #### "
   ]
  },
  {
   "cell_type": "code",
   "execution_count": 95,
   "metadata": {},
   "outputs": [
    {
     "name": "stdout",
     "output_type": "stream",
     "text": [
      "Please enter the word : AcadGild\n",
      "dliGdacA\n"
     ]
    }
   ],
   "source": [
    "word = input(\"Please enter the word : \")\n",
    "\n",
    "reverse_word = word[::-1]\n",
    "\n",
    "print(reverse_word)"
   ]
  },
  {
   "cell_type": "markdown",
   "metadata": {},
   "source": [
    "#### Write a Python Program to print the given string in the format specified in the sample output. ####  \n",
    " ####  WE, THE PEOPLE OF INDIA, having solemnly resolved to constitute India into a SOVEREIGN, SOCIALIST, SECULAR, DEMOCRATIC REPUBLIC and to secure to all its citizens #### \n",
    " \n",
    "####  Sample Output: #### \n",
    " \n",
    "#### WE, THE PEOPLE OF INDIA,####    \n",
    "####       having solemnly resolved to constitute India into a SOVEREIGN, !####   \n",
    "####              SOCIALIST, SECULAR, DEMOCRATIC REPUBLIC ####    \n",
    "####                and to secure to all its citizens ####  \n",
    "\n",
    "\n",
    "![title](Escape.PNG)"
   ]
  },
  {
   "cell_type": "code",
   "execution_count": 113,
   "metadata": {},
   "outputs": [
    {
     "name": "stdout",
     "output_type": "stream",
     "text": [
      "WE, THE PEOPLE OF INDIA,\n",
      "\thaving solemnly resolved to constitute India into a SOVEREIGN,!\n",
      "\t\tSOCIALIST, SECULAR, DEMOCRATIC REPUBLIC\n",
      "\t\tand to secure to all its citizens\n"
     ]
    }
   ],
   "source": [
    "# Print Next Line and Tab#\n",
    "\n",
    "'''a = \"HI ,{} , I am Here ,{}\"\n",
    "\n",
    "#print(a.format('\\n\\t'))\n",
    "\n",
    "print(a.format('\\n\\t','!\\n\\t\\t')) '''\n",
    "\n",
    "''' \\n = linefeed (prints the stuff after this on the next line)\n",
    "    \\r = carriage return (basically also used for printing stuff on the next line)\n",
    "    \\’ = print a single quote ( ‘ ) in your text\n",
    "    \\” = print a double quote ( “ ) in your text\n",
    "    \\\\ = print a backslash ( \\ ) in your text '''\n",
    "\n",
    "Line = \"WE, THE PEOPLE OF INDIA,{}having solemnly resolved to constitute India into a SOVEREIGN,{}SOCIALIST, SECULAR, DEMOCRATIC REPUBLIC{}and to secure to all its citizens{}\"\n",
    "print(Line.format('\\n\\t','!\\n\\t\\t','\\n\\t\\t',''))\n",
    "\n",
    "\n"
   ]
  }
 ],
 "metadata": {
  "kernelspec": {
   "display_name": "Python 3",
   "language": "python",
   "name": "python3"
  },
  "language_info": {
   "codemirror_mode": {
    "name": "ipython",
    "version": 3
   },
   "file_extension": ".py",
   "mimetype": "text/x-python",
   "name": "python",
   "nbconvert_exporter": "python",
   "pygments_lexer": "ipython3",
   "version": "3.7.3"
  }
 },
 "nbformat": 4,
 "nbformat_minor": 2
}
